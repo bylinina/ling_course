{
 "cells": [
  {
   "cell_type": "markdown",
   "id": "15c6245d-e763-44ae-9e33-684ba2ad9198",
   "metadata": {},
   "source": [
    "# Week 5. Grammar II: Syntax\n",
    "\n",
    "<!---\n",
    "`````{admonition} TL;DR [slides]\n",
    ":class: note\n",
    "\n",
    "- Syntax: putting words together\n",
    "\t- Grammaticality\n",
    "\t- Words in linear order\n",
    "\t\t- Head-final, head-initial; constraints\n",
    "\t- Structures built from words\n",
    "\t\t- Constituents\n",
    "\t\t- Trees\n",
    "- Parts of speech\n",
    "- Marking the syntactic relation:\n",
    "\t- Head marking vs. dependent marking\n",
    "\t\t- In the nominal domain\n",
    "\t\t- In the verbal domain\n",
    "\t\t- Ergative vs accusative vs active alignment\n",
    "- Syntax and language technology\n",
    "\t- Syntactic parsers\n",
    "\t- Emergent syntax in language models?\n",
    "\t- Injecting syntactic information into language models\n",
    "`````\n",
    "\n",
    "\n",
    "## Putting words together\n",
    "\n",
    "Last week, we talked about words and their parts, morphemes:  how morphemes are put together, what types there are and so on. Today, we move one level up and discuss how words can be combined together to form phrases and sentences. Let's start by stating the maybe obvious fact that language has rules of putting words together, and not all word combinations in all orders result in phrases or sentences that the language allows.\n",
    "\n",
    "<center><big> The girl read the book.</big></center>\n",
    "\n",
    "\n",
    "\n",
    "\n",
    "\n",
    "<center><big> The girl read the book.</big></center>\n",
    "\n",
    "\n",
    "```{margin} \n",
    "Welsh\n",
    "\n",
    "Example from Borsley, R.D., Tallerman, M. and Willis, D. 2007. _The syntax of Welsh_. Cambridge University Press.\n",
    "```\n",
    "<div id='outerTable'><table>\n",
    "  <tr><td>(1)&nbsp;&nbsp;&nbsp;</td><td>Prynodd</td><td>Elin</td><td>dorth</td><td>o</td><td>fara.</td></tr>\n",
    "  <tr><td></td><td>buy.PAST.3S</td><td>Elin</td><td>loaf</td><td>of</td><td>bread</td></tr>\n",
    "  <tr><td></td><td colspan=5>'Elin bought a loaf of bread.'</td></tr>\n",
    "</table></div>\n",
    "\n",
    "\n",
    "\n",
    "\n",
    "\n",
    "\n",
    "<center><big><span style=\"color:DeepPink\"><b>Juniper</b></span><span style=\"color:Indigo\"><b>'s</b></span> <span style=\"color:Crimson\"><b>mother-in-law</b></span> <span style=\"color:FireBrick\"><b>is</b></span> <span style=\"color:DarkSlateGray\"><b>kind</b></span><span style=\"color:Purple\"><b>a</b></span> <span style=\"color:SteelBlue\"><b>hilarious</b></span>, <span style=\"color:DarkGreen\"><b>is</b></span><span style=\"color:DarkRed\"><b>n't</b></span> <span style=\"color:ForestGreen\"><b>she</b></span>?</big></center>\n",
    "\n",
    "\n",
    "[ungrammatical example]\n",
    "\n",
    "Recursion\n",
    "\n",
    "This contrasts with how words generally work, by the way. Words can be very long, as we saw last week, but only in some very particular circumstances and maybe not in all languages words can be as long as potentially infinite. The reality of this inherent limitation is evidenced by fun facts and challenges about 'the longest word in the world' amd others like it. I don't think I've ever seen a challenge to produce the longest sentence in the world -- and even if somebody came up with a challenge like that, it's paradoxality is intuitively obvious: it's not a problem to come up with an infinitely long sentence. Here are a couple good candidates:\n",
    "\n",
    "- This sentence will go on and on and on and on and on and on...\n",
    "- I called my friend who then called her friend who then called her friend...\n",
    "\n",
    "Syntax gives you combinatorial freedom that is somehow beyond the limits of combinatorial freedom of morphology. There must be a deep reason for that, but I don't know it and don't want to speculate.\n",
    "--->"
   ]
  },
  {
   "cell_type": "code",
   "execution_count": null,
   "id": "a044a5c4-14ef-432c-aec4-af60955367b3",
   "metadata": {},
   "outputs": [],
   "source": []
  },
  {
   "cell_type": "code",
   "execution_count": 1,
   "id": "6d8daf3e-7335-4a98-8299-ced0c97c8b79",
   "metadata": {},
   "outputs": [],
   "source": [
    "#sentence = \"This is a sentence.\""
   ]
  },
  {
   "cell_type": "code",
   "execution_count": 2,
   "id": "10a9bd5b-cba8-43eb-bc81-18cf11b9091a",
   "metadata": {
    "editable": true,
    "scrolled": true,
    "slideshow": {
     "slide_type": ""
    },
    "tags": []
   },
   "outputs": [],
   "source": [
    "#import benepar, spacy\n",
    "#from nltk import ParentedTree\n",
    "#from IPython.utils import io\n",
    "#with io.capture_output() as captured:\n",
    "#    nlp = spacy.load('en_core_web_sm')\n",
    "#    nlp.add_pipe(\"benepar\", config={\"model\": \"benepar_en3\"})\n",
    "#    sentence = list(nlp(sentence).sents)[0]"
   ]
  },
  {
   "cell_type": "code",
   "execution_count": 3,
   "id": "8f5fdc09-7237-4100-a17f-1b8d6d187438",
   "metadata": {
    "editable": true,
    "slideshow": {
     "slide_type": ""
    },
    "tags": []
   },
   "outputs": [],
   "source": [
    "#parse_tree = ParentedTree.fromstring('(' + sentence._.parse_string + ')')\n",
    "#parse_tree.pretty_print()"
   ]
  },
  {
   "cell_type": "markdown",
   "id": "0fead7de-1303-4b5f-a249-7127538384b7",
   "metadata": {},
   "source": [
    "<!---\n",
    "Demo https://demos.explosion.ai/displacy\n",
    "--->"
   ]
  },
  {
   "cell_type": "code",
   "execution_count": 4,
   "id": "ca39879d-f5c3-4189-9cb2-a5710283b31f",
   "metadata": {},
   "outputs": [],
   "source": [
    "# spacy.displacy.render(sentence, style='dep')"
   ]
  },
  {
   "cell_type": "code",
   "execution_count": null,
   "id": "a6316e66-4b31-4e4b-a335-ebe255aa913d",
   "metadata": {},
   "outputs": [],
   "source": []
  }
 ],
 "metadata": {
  "kernelspec": {
   "display_name": "ling_course",
   "language": "python",
   "name": "ling_course"
  },
  "language_info": {
   "codemirror_mode": {
    "name": "ipython",
    "version": 3
   },
   "file_extension": ".py",
   "mimetype": "text/x-python",
   "name": "python",
   "nbconvert_exporter": "python",
   "pygments_lexer": "ipython3",
   "version": "3.9.10"
  }
 },
 "nbformat": 4,
 "nbformat_minor": 5
}