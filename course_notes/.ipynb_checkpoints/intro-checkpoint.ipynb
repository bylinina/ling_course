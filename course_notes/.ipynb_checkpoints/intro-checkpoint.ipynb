{
 "cells": [
  {
   "cell_type": "markdown",
   "id": "2bea94da",
   "metadata": {},
   "source": [
    "# Introduction\n",
    "\n",
    "I am writing this on a train traversing Europe from North to South, somewhere between Germany and Switzerland at the moment. It's late July, the very beginning of a week of absolutely no obligations whatsoever. I look out of the window and as the sun touches up the mountains and so on and so on and little cows and all these cute little things etc etc, I am so worried of not being productive while I am on the trip that I decided to immediately start writing up this Jupyter book. So here we are. \n",
    "\n",
    ":::{warning}\n",
    "Don't be like me, take time off and just enjoy the sunshine, the mountains and all the little cows and other little things.\n",
    ":::\n",
    "\n",
    "\n",
    "## What is this?\n",
    "\n",
    "A while ago, I spent quite some time collecting information on cross-linguistic variation in the grammar of numerals. Numerals, or 'number words', are words like \n",
    "\n",
    "\n",
    "scared of not making the best etc etc I and fields and so on and so on, {cite}`num_database`.\n",
    "\n",
    "\n",
    "This is a small sample book to give you a feel for how book content is\n",
    "structured.\n",
    "\n",
    ":::{tip}\n",
    "Here is a note!\n",
    ":::\n",
    "\n",
    "And here is a code block:\n",
    "\n",
    "```\n",
    "e = mc^2\n",
    "```\n",
    "\n",
    "Check out the content pages bundled with this sample book to see more.\n",
    "\n",
    "```{bibliography}\n",
    "```"
   ]
  },
  {
   "cell_type": "code",
   "execution_count": null,
   "id": "ebe0ff24",
   "metadata": {},
   "outputs": [],
   "source": []
  },
  {
   "cell_type": "code",
   "execution_count": null,
   "id": "89203d12",
   "metadata": {},
   "outputs": [],
   "source": []
  }
 ],
 "metadata": {
  "kernelspec": {
   "display_name": "Python 3",
   "language": "python",
   "name": "python3"
  },
  "language_info": {
   "codemirror_mode": {
    "name": "ipython",
    "version": 3
   },
   "file_extension": ".py",
   "mimetype": "text/x-python",
   "name": "python",
   "nbconvert_exporter": "python",
   "pygments_lexer": "ipython3",
   "version": "3.6.9"
  }
 },
 "nbformat": 4,
 "nbformat_minor": 5
}
