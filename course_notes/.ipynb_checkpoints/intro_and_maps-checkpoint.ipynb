{
 "cells": [
  {
   "cell_type": "markdown",
   "id": "fb22f151",
   "metadata": {},
   "source": [
    "# Intro and maps"
   ]
  },
  {
   "cell_type": "code",
   "execution_count": null,
   "id": "3fe8eb3f",
   "metadata": {},
   "outputs": [],
   "source": [
    "import matplotlib.pyplot as plt\n",
    "import pandas as pd\n",
    "import numpy as np\n",
    "import random\n",
    "import geopandas as gpd\n",
    "import zipfile\n",
    "from io import BytesIO"
   ]
  },
  {
   "cell_type": "code",
   "execution_count": null,
   "id": "7dd80c28",
   "metadata": {},
   "outputs": [],
   "source": [
    "! wget https://cdstar.eva.mpg.de/bitstreams/EAEA0-7EA2-D308-CD6E-0/glottolog_languoid.csv.zip"
   ]
  },
  {
   "cell_type": "code",
   "execution_count": null,
   "id": "84a1e63d",
   "metadata": {},
   "outputs": [],
   "source": [
    "langs = pd.read_csv('language_data.csv')\n",
    "with zipfile.ZipFile(\"glottolog_languoid.csv.zip\", \"r\") as f:\n",
    "    for name in f.namelist():\n",
    "        if name.endswith('.csv'):\n",
    "            with f.open(name) as zd:\n",
    "                lang_geo = pd.read_csv(zd)\n",
    "            break\n",
    "fam_code_to_name = {row['id']: row['name'] for ix, row in lang_geo[(lang_geo['level']=='family')&(lang_geo['parent_id'].isna())].iterrows()}\n",
    "lang_geo = lang_geo[lang_geo.iso639P3code.isin(langs.SILCode)]\n",
    "lang_geo['family_id'].fillna('isolate', inplace=True)\n",
    "lang_geo['family_name'] = [fam_code_to_name[x] if x!='isolate' else 'isolate' for x in lang_geo['family_id']]\n",
    "SIL_to_family = {x:lang_geo[lang_geo.iso639P3code==x]['family_name'].values[0] for x in lang_geo.iso639P3code}"
   ]
  },
  {
   "cell_type": "code",
   "execution_count": null,
   "id": "7ee0b7d8",
   "metadata": {},
   "outputs": [],
   "source": [
    "worldmap = gpd.read_file(gpd.datasets.get_path(\"naturalearth_lowres\"))\n",
    "\n",
    "np.random.seed(28)\n",
    "color_picks = np.random.randint(0, 0xFFFFFF, size=16)\n",
    "colors = list(map(lambda i: \"#\" + \"%06x\" % color_picks[i],range(16)))\n",
    "fig, ax = plt.subplots(figsize=(12, 6))\n",
    "worldmap.plot(color=\"lightgrey\", ax=ax)\n",
    "\n",
    "fam_data = lang_geo['family_name'].value_counts().to_dict()\n",
    "for i,fam in enumerate(fam_data.keys()):\n",
    "    x = lang_geo[lang_geo.family_name == fam]['longitude']\n",
    "    y = lang_geo[lang_geo.family_name == fam]['latitude']\n",
    "    plt.scatter(x, y, s=[150]*len(x), c=colors[i], label=fam, alpha=0.7, edgecolors='none')\n",
    "\n",
    "plt.legend(loc=\"lower center\",ncol=5)\n",
    "\n",
    "plt.xlim([-180, 180])\n",
    "plt.ylim([-90, 90])\n",
    "\n",
    "plt.title(\"Language sample, color-coded by language family\")\n",
    "plt.show()"
   ]
  },
  {
   "cell_type": "code",
   "execution_count": null,
   "id": "2ac76988",
   "metadata": {},
   "outputs": [],
   "source": [
    "fam_data = lang_geo['family_name'].value_counts().to_dict()\n",
    "\n",
    "labels = fam_data.keys()\n",
    "sizes = fam_data.values()\n",
    "plt.rcParams[\"figure.figsize\"] = (7,7)\n",
    "plt.pie(sizes, labels=labels, autopct='%1.1f%%', startangle=100, colors=colors, wedgeprops={'alpha':0.6})\n",
    "plt.show()"
   ]
  },
  {
   "cell_type": "code",
   "execution_count": null,
   "id": "8ce728b8",
   "metadata": {},
   "outputs": [],
   "source": [
    "lang_per_fam = {x:lang_geo[lang_geo['family_name']==x]['name'] for x in labels}\n",
    "for family in lang_per_fam:\n",
    "    print(family.upper()+':',', '.join(lang_per_fam[family]))"
   ]
  }
 ],
 "metadata": {
  "kernelspec": {
   "display_name": "Python 3",
   "language": "python",
   "name": "python3"
  },
  "language_info": {
   "codemirror_mode": {
    "name": "ipython",
    "version": 3
   },
   "file_extension": ".py",
   "mimetype": "text/x-python",
   "name": "python",
   "nbconvert_exporter": "python",
   "pygments_lexer": "ipython3",
   "version": "3.6.9"
  }
 },
 "nbformat": 4,
 "nbformat_minor": 5
}
