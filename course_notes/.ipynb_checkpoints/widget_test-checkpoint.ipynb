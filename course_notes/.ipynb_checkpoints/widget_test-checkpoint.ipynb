{
 "cells": [
  {
   "cell_type": "markdown",
   "metadata": {},
   "source": [
    "# Widget test"
   ]
  },
  {
   "cell_type": "code",
   "execution_count": 17,
   "metadata": {},
   "outputs": [
    {
     "data": {
      "application/vnd.jupyter.widget-view+json": {
       "model_id": "cbfc932b51f949a0b7676ea108350db6",
       "version_major": 2,
       "version_minor": 0
      },
      "text/plain": [
       "interactive(children=(IntSlider(value=50, description='noise'), Text(value='How was your day?', description='t…"
      ]
     },
     "metadata": {},
     "output_type": "display_data"
    }
   ],
   "source": [
    "import random\n",
    "import math\n",
    "from string import ascii_letters\n",
    "import ipywidgets as widgets\n",
    "\n",
    "@widgets.interact(noise=(0,100,1), text='How was your day?')\n",
    "def g(noise, text):\n",
    "    n_to_swap = math.floor((len(text)*noise)/100)\n",
    "    sam = random.sample(range(len(text)), n_to_swap)\n",
    "    text = list(text)\n",
    "    for ind in sam:\n",
    "        text[ind] = random.choice(ascii_letters)\n",
    "    new_text = ''.join(text)\n",
    "    return new_text"
   ]
  },
  {
   "cell_type": "code",
   "execution_count": null,
   "metadata": {},
   "outputs": [],
   "source": []
  }
 ],
 "metadata": {
  "kernelspec": {
   "display_name": "Python 3",
   "language": "python",
   "name": "python3"
  },
  "language_info": {
   "codemirror_mode": {
    "name": "ipython",
    "version": 3
   },
   "file_extension": ".py",
   "mimetype": "text/x-python",
   "name": "python",
   "nbconvert_exporter": "python",
   "pygments_lexer": "ipython3",
   "version": "3.7.7"
  }
 },
 "nbformat": 4,
 "nbformat_minor": 4
}
